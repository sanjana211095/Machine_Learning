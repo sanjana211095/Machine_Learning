{
 "cells": [
  {
   "cell_type": "markdown",
   "id": "339ae2ed",
   "metadata": {},
   "source": [
    "# Task 1\n",
    "### What is difference between Continuous and Discrete Value?"
   ]
  },
  {
   "cell_type": "code",
   "execution_count": null,
   "id": "687291a0",
   "metadata": {},
   "outputs": [],
   "source": [
    "'''\n",
    "Discrete value is a numerical data that can only have unique values.\n",
    "Continuous value is numerical data that has any value within a range.\n",
    "'''"
   ]
  },
  {
   "cell_type": "markdown",
   "id": "5f228226",
   "metadata": {},
   "source": [
    "# Task 2\n",
    "### How to evaluate the model with dataset with lesser rows?"
   ]
  },
  {
   "cell_type": "code",
   "execution_count": null,
   "id": "5e087525",
   "metadata": {},
   "outputs": [],
   "source": [
    "'''\n",
    "Feature Selection:Prioritize essential features to prevent overfitting.\n",
    "BootStrap Resampling:Utilize bootstrap resampling technique to generate multiple datasets\n",
    "by random sampling with replacement.\n",
    "'''"
   ]
  },
  {
   "cell_type": "markdown",
   "id": "07f0f168",
   "metadata": {},
   "source": [
    "# Task 3"
   ]
  },
  {
   "cell_type": "code",
   "execution_count": null,
   "id": "16700ec2",
   "metadata": {},
   "outputs": [],
   "source": [
    "'''\n",
    "Doc of sklearn\n",
    "scikit learn\n",
    "'''"
   ]
  },
  {
   "cell_type": "markdown",
   "id": "aed35300",
   "metadata": {},
   "source": [
    "# Task 4\n",
    "###  What is cor-relation ?\n",
    "### What is transfer learning ?\n",
    "### How to save regression model in a file ?"
   ]
  },
  {
   "cell_type": "code",
   "execution_count": null,
   "id": "c337e6ec",
   "metadata": {},
   "outputs": [],
   "source": [
    "'''\n",
    "Cor-relation : It measures the extent to which two variables are linerely related.\n",
    "Ranges from -1 to 1.\n",
    "\n",
    "Transfer Learning : It is a ML technique where a trained model is re-used on a new problem.\n",
    "\n",
    "How to save regression model in a file?\n",
    "Create file with .joblib/.model and dump the model using pickle into the file.\n",
    "'''"
   ]
  }
 ],
 "metadata": {
  "kernelspec": {
   "display_name": "Python 3 (ipykernel)",
   "language": "python",
   "name": "python3"
  },
  "language_info": {
   "codemirror_mode": {
    "name": "ipython",
    "version": 3
   },
   "file_extension": ".py",
   "mimetype": "text/x-python",
   "name": "python",
   "nbconvert_exporter": "python",
   "pygments_lexer": "ipython3",
   "version": "3.10.9"
  }
 },
 "nbformat": 4,
 "nbformat_minor": 5
}
