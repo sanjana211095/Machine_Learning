{
 "cells": [
  {
   "cell_type": "markdown",
   "id": "8207667c",
   "metadata": {},
   "source": [
    "# Task 1\n",
    "- Create a dictionary.\n",
    "Pickle and unpickle the data   \n",
    "- Store in JSON and read in JSON"
   ]
  },
  {
   "cell_type": "code",
   "execution_count": 6,
   "id": "eefbb0ce",
   "metadata": {},
   "outputs": [],
   "source": [
    "#Creating a dictionary\n",
    "config = {\n",
    "     \"loc1\" : {\"city\" : \"blr\", \"vals\" : [10,20,30]},\n",
    "     \"loc2\" : {\"city\" : \"chn\", \"vals\" : [40,50,60]}\n",
    "    }"
   ]
  },
  {
   "cell_type": "markdown",
   "id": "1579e473",
   "metadata": {},
   "source": [
    "Pickle"
   ]
  },
  {
   "cell_type": "code",
   "execution_count": 14,
   "id": "374ae5ef",
   "metadata": {},
   "outputs": [],
   "source": [
    "#importing pickle library\n",
    "import pickle\n",
    "#Open a file and dumping a data in it\n",
    "f1 = open(\"file.pkl\",\"ab\")\n",
    "file_pkl=pickle.dump(config,f1)\n",
    "f1.close()"
   ]
  },
  {
   "cell_type": "code",
   "execution_count": 17,
   "id": "14015700",
   "metadata": {},
   "outputs": [
    {
     "data": {
      "text/plain": [
       "{'loc1': {'city': 'blr', 'vals': [10, 20, 30]},\n",
       " 'loc2': {'city': 'chn', 'vals': [40, 50, 60]}}"
      ]
     },
     "execution_count": 17,
     "metadata": {},
     "output_type": "execute_result"
    }
   ],
   "source": [
    "data=pd.read_pickle(\"file.pkl\")\n",
    "data"
   ]
  },
  {
   "cell_type": "markdown",
   "id": "cb31cd2e",
   "metadata": {},
   "source": [
    "JSON"
   ]
  },
  {
   "cell_type": "code",
   "execution_count": 23,
   "id": "755d7983",
   "metadata": {},
   "outputs": [],
   "source": [
    "#importing JSON libary\n",
    "import json\n",
    "\n",
    "f2 = open(\"file.JSON\",\"w\")\n",
    "json.dump(config,f2)\n",
    "f2.close()"
   ]
  },
  {
   "cell_type": "code",
   "execution_count": 25,
   "id": "5f668689",
   "metadata": {},
   "outputs": [
    {
     "data": {
      "text/html": [
       "<div>\n",
       "<style scoped>\n",
       "    .dataframe tbody tr th:only-of-type {\n",
       "        vertical-align: middle;\n",
       "    }\n",
       "\n",
       "    .dataframe tbody tr th {\n",
       "        vertical-align: top;\n",
       "    }\n",
       "\n",
       "    .dataframe thead th {\n",
       "        text-align: right;\n",
       "    }\n",
       "</style>\n",
       "<table border=\"1\" class=\"dataframe\">\n",
       "  <thead>\n",
       "    <tr style=\"text-align: right;\">\n",
       "      <th></th>\n",
       "      <th>loc1</th>\n",
       "      <th>loc2</th>\n",
       "    </tr>\n",
       "  </thead>\n",
       "  <tbody>\n",
       "    <tr>\n",
       "      <th>city</th>\n",
       "      <td>blr</td>\n",
       "      <td>chn</td>\n",
       "    </tr>\n",
       "    <tr>\n",
       "      <th>vals</th>\n",
       "      <td>[10, 20, 30]</td>\n",
       "      <td>[40, 50, 60]</td>\n",
       "    </tr>\n",
       "  </tbody>\n",
       "</table>\n",
       "</div>"
      ],
      "text/plain": [
       "              loc1          loc2\n",
       "city           blr           chn\n",
       "vals  [10, 20, 30]  [40, 50, 60]"
      ]
     },
     "execution_count": 25,
     "metadata": {},
     "output_type": "execute_result"
    }
   ],
   "source": [
    "Data = pd.read_json(\"file.JSON\")\n",
    "Data"
   ]
  },
  {
   "cell_type": "markdown",
   "id": "348dcb94",
   "metadata": {},
   "source": [
    "# Task 2"
   ]
  },
  {
   "cell_type": "code",
   "execution_count": 28,
   "id": "515bd079",
   "metadata": {},
   "outputs": [],
   "source": [
    "file = open(\"data.csv\", \"w\")\n",
    "file.write('''name,dept,salary,bonus\n",
    "\n",
    "arun,SALES,18000,18500\n",
    "\n",
    "john,accts,16000,10500\n",
    "\n",
    "ravi,purch,20000,\n",
    "\n",
    "manu,hrd,19000,?\n",
    "\n",
    "elan,hrd,,11000\n",
    "\n",
    "somu,Sales,12000,10500\n",
    "\n",
    "raja,sales,?,19000\n",
    "\n",
    "vani,sales,21000,21500\n",
    "\n",
    "guru,HRD,15000,\n",
    "\n",
    "kala,HRD,15000,2000\n",
    "\n",
    "yash,accts,18500,19000\n",
    "\n",
    "pavan,sales,21000,21500\n",
    "\n",
    "rinu,Accts,,2000\n",
    "\n",
    "elan,purch,15000,2000\n",
    "\n",
    "tara,accts,18500,3230\n",
    "\n",
    "ullas,purch,15000,2000\n",
    "\n",
    "manav,hrd,,\n",
    "\n",
    "amar,sales,18000,3500\n",
    "\n",
    "giri,Accts,21000,3000''')\n",
    "\n",
    "file.close()"
   ]
  },
  {
   "cell_type": "code",
   "execution_count": 29,
   "id": "3aea8280",
   "metadata": {},
   "outputs": [
    {
     "data": {
      "text/html": [
       "<div>\n",
       "<style scoped>\n",
       "    .dataframe tbody tr th:only-of-type {\n",
       "        vertical-align: middle;\n",
       "    }\n",
       "\n",
       "    .dataframe tbody tr th {\n",
       "        vertical-align: top;\n",
       "    }\n",
       "\n",
       "    .dataframe thead th {\n",
       "        text-align: right;\n",
       "    }\n",
       "</style>\n",
       "<table border=\"1\" class=\"dataframe\">\n",
       "  <thead>\n",
       "    <tr style=\"text-align: right;\">\n",
       "      <th></th>\n",
       "      <th>name</th>\n",
       "      <th>dept</th>\n",
       "      <th>salary</th>\n",
       "      <th>bonus</th>\n",
       "    </tr>\n",
       "  </thead>\n",
       "  <tbody>\n",
       "    <tr>\n",
       "      <th>0</th>\n",
       "      <td>arun</td>\n",
       "      <td>SALES</td>\n",
       "      <td>18000</td>\n",
       "      <td>18500</td>\n",
       "    </tr>\n",
       "    <tr>\n",
       "      <th>1</th>\n",
       "      <td>john</td>\n",
       "      <td>accts</td>\n",
       "      <td>16000</td>\n",
       "      <td>10500</td>\n",
       "    </tr>\n",
       "    <tr>\n",
       "      <th>2</th>\n",
       "      <td>ravi</td>\n",
       "      <td>purch</td>\n",
       "      <td>20000</td>\n",
       "      <td>NaN</td>\n",
       "    </tr>\n",
       "    <tr>\n",
       "      <th>3</th>\n",
       "      <td>manu</td>\n",
       "      <td>hrd</td>\n",
       "      <td>19000</td>\n",
       "      <td>?</td>\n",
       "    </tr>\n",
       "    <tr>\n",
       "      <th>4</th>\n",
       "      <td>elan</td>\n",
       "      <td>hrd</td>\n",
       "      <td>NaN</td>\n",
       "      <td>11000</td>\n",
       "    </tr>\n",
       "  </tbody>\n",
       "</table>\n",
       "</div>"
      ],
      "text/plain": [
       "   name   dept salary  bonus\n",
       "0  arun  SALES  18000  18500\n",
       "1  john  accts  16000  10500\n",
       "2  ravi  purch  20000    NaN\n",
       "3  manu    hrd  19000      ?\n",
       "4  elan    hrd    NaN  11000"
      ]
     },
     "execution_count": 29,
     "metadata": {},
     "output_type": "execute_result"
    }
   ],
   "source": [
    "df=pd.read_csv(\"data.csv\")\n",
    "df.head()"
   ]
  },
  {
   "cell_type": "code",
   "execution_count": null,
   "id": "798b2331",
   "metadata": {},
   "outputs": [],
   "source": []
  }
 ],
 "metadata": {
  "kernelspec": {
   "display_name": "Python 3 (ipykernel)",
   "language": "python",
   "name": "python3"
  },
  "language_info": {
   "codemirror_mode": {
    "name": "ipython",
    "version": 3
   },
   "file_extension": ".py",
   "mimetype": "text/x-python",
   "name": "python",
   "nbconvert_exporter": "python",
   "pygments_lexer": "ipython3",
   "version": "3.10.9"
  }
 },
 "nbformat": 4,
 "nbformat_minor": 5
}
